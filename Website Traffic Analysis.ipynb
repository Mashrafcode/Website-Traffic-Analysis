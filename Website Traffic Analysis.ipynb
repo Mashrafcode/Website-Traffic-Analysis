{
 "cells": [
  {
   "cell_type": "markdown",
   "id": "32da3ee1",
   "metadata": {},
   "source": [
    "# <div align=\"center\"> Website Traffic Analysis\n",
    "<img src=\"getty_503426092_342208.jpg\" style=\"width: 600px;\"/>"
   ]
  },
  {
   "cell_type": "markdown",
   "id": "f6d12240",
   "metadata": {},
   "source": [
    "##  __[SOURCE: Stratascratch](https://www.stratascratch.com/)__\n",
    "## <i>Problem Statement </i>\n",
    "\n",
    "The data set provided (traffic.csv) contains web traffic data (\"events\") from a few different pages (\"links\") over a period of 7 days including various categorical dimensions about the geographic origin of that traffic as well as a page's content: isrc.\n",
    "\n",
    "Our goal is to understand this traffic better, in particular the volume and distribution of events, and to develop ideas how to increase the links' clickrates. With that in mind, please analyze the data using the Python libraries Pandas and SciPy where indicated, providing answers to the presented questions."
   ]
  },
  {
   "cell_type": "markdown",
   "id": "814d7958",
   "metadata": {},
   "source": [
    "## Exploratory Data Analysis"
   ]
  },
  {
   "cell_type": "code",
   "execution_count": 1,
   "id": "38e14518",
   "metadata": {},
   "outputs": [],
   "source": [
    "# import libraries, pandas and scipy are required, numpy will come in handy\n",
    "import pandas as pd\n",
    "import numpy as np\n",
    "from scipy import stats"
   ]
  },
  {
   "cell_type": "code",
   "execution_count": 2,
   "id": "d93fa7a1",
   "metadata": {},
   "outputs": [],
   "source": [
    "CSV_FILEPATH = \"traffic.csv\"\n",
    "# load the data set\n",
    "df = pd.read_csv(CSV_FILEPATH)"
   ]
  },
  {
   "cell_type": "code",
   "execution_count": 3,
   "id": "b3ce9463",
   "metadata": {},
   "outputs": [
    {
     "data": {
      "text/plain": [
       "(226278, 9)"
      ]
     },
     "execution_count": 3,
     "metadata": {},
     "output_type": "execute_result"
    }
   ],
   "source": [
    "df.shape"
   ]
  },
  {
   "cell_type": "code",
   "execution_count": 4,
   "id": "f87578c3",
   "metadata": {},
   "outputs": [
    {
     "data": {
      "text/html": [
       "<div>\n",
       "<style scoped>\n",
       "    .dataframe tbody tr th:only-of-type {\n",
       "        vertical-align: middle;\n",
       "    }\n",
       "\n",
       "    .dataframe tbody tr th {\n",
       "        vertical-align: top;\n",
       "    }\n",
       "\n",
       "    .dataframe thead th {\n",
       "        text-align: right;\n",
       "    }\n",
       "</style>\n",
       "<table border=\"1\" class=\"dataframe\">\n",
       "  <thead>\n",
       "    <tr style=\"text-align: right;\">\n",
       "      <th></th>\n",
       "      <th>event</th>\n",
       "      <th>date</th>\n",
       "      <th>country</th>\n",
       "      <th>city</th>\n",
       "      <th>artist</th>\n",
       "      <th>album</th>\n",
       "      <th>track</th>\n",
       "      <th>isrc</th>\n",
       "      <th>linkid</th>\n",
       "    </tr>\n",
       "  </thead>\n",
       "  <tbody>\n",
       "    <tr>\n",
       "      <th>0</th>\n",
       "      <td>click</td>\n",
       "      <td>2021-08-21</td>\n",
       "      <td>Saudi Arabia</td>\n",
       "      <td>Jeddah</td>\n",
       "      <td>Tesher</td>\n",
       "      <td>Jalebi Baby</td>\n",
       "      <td>Jalebi Baby</td>\n",
       "      <td>QZNWQ2070741</td>\n",
       "      <td>2d896d31-97b6-4869-967b-1c5fb9cd4bb8</td>\n",
       "    </tr>\n",
       "    <tr>\n",
       "      <th>1</th>\n",
       "      <td>click</td>\n",
       "      <td>2021-08-21</td>\n",
       "      <td>Saudi Arabia</td>\n",
       "      <td>Jeddah</td>\n",
       "      <td>Tesher</td>\n",
       "      <td>Jalebi Baby</td>\n",
       "      <td>Jalebi Baby</td>\n",
       "      <td>QZNWQ2070741</td>\n",
       "      <td>2d896d31-97b6-4869-967b-1c5fb9cd4bb8</td>\n",
       "    </tr>\n",
       "    <tr>\n",
       "      <th>2</th>\n",
       "      <td>click</td>\n",
       "      <td>2021-08-21</td>\n",
       "      <td>India</td>\n",
       "      <td>Ludhiana</td>\n",
       "      <td>Reyanna Maria</td>\n",
       "      <td>So Pretty</td>\n",
       "      <td>So Pretty</td>\n",
       "      <td>USUM72100871</td>\n",
       "      <td>23199824-9cf5-4b98-942a-34965c3b0cc2</td>\n",
       "    </tr>\n",
       "    <tr>\n",
       "      <th>3</th>\n",
       "      <td>click</td>\n",
       "      <td>2021-08-21</td>\n",
       "      <td>France</td>\n",
       "      <td>Unknown</td>\n",
       "      <td>Simone &amp; Simaria, Sebastian Yatra</td>\n",
       "      <td>No Llores Más</td>\n",
       "      <td>No Llores Más</td>\n",
       "      <td>BRUM72003904</td>\n",
       "      <td>35573248-4e49-47c7-af80-08a960fa74cd</td>\n",
       "    </tr>\n",
       "    <tr>\n",
       "      <th>4</th>\n",
       "      <td>click</td>\n",
       "      <td>2021-08-21</td>\n",
       "      <td>Maldives</td>\n",
       "      <td>Malé</td>\n",
       "      <td>Tesher</td>\n",
       "      <td>Jalebi Baby</td>\n",
       "      <td>Jalebi Baby</td>\n",
       "      <td>QZNWQ2070741</td>\n",
       "      <td>2d896d31-97b6-4869-967b-1c5fb9cd4bb8</td>\n",
       "    </tr>\n",
       "  </tbody>\n",
       "</table>\n",
       "</div>"
      ],
      "text/plain": [
       "   event        date       country      city  \\\n",
       "0  click  2021-08-21  Saudi Arabia    Jeddah   \n",
       "1  click  2021-08-21  Saudi Arabia    Jeddah   \n",
       "2  click  2021-08-21         India  Ludhiana   \n",
       "3  click  2021-08-21        France   Unknown   \n",
       "4  click  2021-08-21      Maldives      Malé   \n",
       "\n",
       "                              artist          album          track  \\\n",
       "0                             Tesher    Jalebi Baby    Jalebi Baby   \n",
       "1                             Tesher    Jalebi Baby    Jalebi Baby   \n",
       "2                      Reyanna Maria      So Pretty      So Pretty   \n",
       "3  Simone & Simaria, Sebastian Yatra  No Llores Más  No Llores Más   \n",
       "4                             Tesher    Jalebi Baby    Jalebi Baby   \n",
       "\n",
       "           isrc                                linkid  \n",
       "0  QZNWQ2070741  2d896d31-97b6-4869-967b-1c5fb9cd4bb8  \n",
       "1  QZNWQ2070741  2d896d31-97b6-4869-967b-1c5fb9cd4bb8  \n",
       "2  USUM72100871  23199824-9cf5-4b98-942a-34965c3b0cc2  \n",
       "3  BRUM72003904  35573248-4e49-47c7-af80-08a960fa74cd  \n",
       "4  QZNWQ2070741  2d896d31-97b6-4869-967b-1c5fb9cd4bb8  "
      ]
     },
     "execution_count": 4,
     "metadata": {},
     "output_type": "execute_result"
    }
   ],
   "source": [
    "df.head()"
   ]
  },
  {
   "cell_type": "markdown",
   "id": "96e16c7d",
   "metadata": {},
   "source": [
    "## Question 1\n",
    "### How many total pageview events did the links in the provided dataset receive in the full period, how many per day?"
   ]
  },
  {
   "cell_type": "code",
   "execution_count": 5,
   "id": "8350f921",
   "metadata": {},
   "outputs": [
    {
     "data": {
      "text/plain": [
       "pageview    142015\n",
       "click        55732\n",
       "preview      28531\n",
       "Name: event, dtype: int64"
      ]
     },
     "execution_count": 5,
     "metadata": {},
     "output_type": "execute_result"
    }
   ],
   "source": [
    "# the data set records three types of events: pageview, click, preview\n",
    "df[\"event\"].value_counts()"
   ]
  },
  {
   "cell_type": "code",
   "execution_count": 6,
   "id": "df608c14",
   "metadata": {},
   "outputs": [
    {
     "data": {
      "text/plain": [
       "142015"
      ]
     },
     "execution_count": 6,
     "metadata": {},
     "output_type": "execute_result"
    }
   ],
   "source": [
    "df[df[\"event\"] == \"pageview\"].shape[0]"
   ]
  },
  {
   "cell_type": "markdown",
   "id": "af35cbbb",
   "metadata": {},
   "source": [
    "Getting the number of pageview events per day requires the application of the groupby method, followed by an aggregate (count) function."
   ]
  },
  {
   "cell_type": "code",
   "execution_count": 8,
   "id": "972565c5",
   "metadata": {},
   "outputs": [
    {
     "data": {
      "text/plain": [
       "date\n",
       "2021-08-19    22366\n",
       "2021-08-20    21382\n",
       "2021-08-21    21349\n",
       "2021-08-22    20430\n",
       "2021-08-23    18646\n",
       "2021-08-24    18693\n",
       "2021-08-25    19149\n",
       "Name: event, dtype: int64"
      ]
     },
     "execution_count": 8,
     "metadata": {},
     "output_type": "execute_result"
    }
   ],
   "source": [
    "# 1. filter only for 'pageview' events\n",
    "# 2. group by the date\n",
    "# 3. keep only the 'event' column, and specify a 'count' aggregation\n",
    "df[df[\"event\"] == \"pageview\"].groupby(by=\"date\")[\"event\"].count()"
   ]
  },
  {
   "cell_type": "markdown",
   "id": "8147703b",
   "metadata": {},
   "source": [
    "Please note that we allow for duplicates in the data, i.e., if the same user views the same page multiple times, it will be counted each time. We can use df.drop_duplicates() to modify this behaviour and see the difference. The following cells illustrate the difference in the data caused after deduplicating: the number of events lowers by nearly half."
   ]
  },
  {
   "cell_type": "code",
   "execution_count": 10,
   "id": "0494388a",
   "metadata": {},
   "outputs": [],
   "source": [
    "df_deduplicated = df.drop_duplicates()"
   ]
  },
  {
   "cell_type": "code",
   "execution_count": 11,
   "id": "cd886d7b",
   "metadata": {},
   "outputs": [
    {
     "data": {
      "text/plain": [
       "pageview    73360\n",
       "click       32499\n",
       "preview     16708\n",
       "Name: event, dtype: int64"
      ]
     },
     "execution_count": 11,
     "metadata": {},
     "output_type": "execute_result"
    }
   ],
   "source": [
    "df_deduplicated[\"event\"].value_counts()"
   ]
  },
  {
   "cell_type": "code",
   "execution_count": 12,
   "id": "e74463ce",
   "metadata": {},
   "outputs": [
    {
     "data": {
      "text/plain": [
       "73360"
      ]
     },
     "execution_count": 12,
     "metadata": {},
     "output_type": "execute_result"
    }
   ],
   "source": [
    "df_deduplicated[df_deduplicated[\"event\"] == \"pageview\"].shape[0]"
   ]
  },
  {
   "cell_type": "code",
   "execution_count": 13,
   "id": "c788b93a",
   "metadata": {},
   "outputs": [
    {
     "data": {
      "text/plain": [
       "date\n",
       "2021-08-19    13006\n",
       "2021-08-20    11088\n",
       "2021-08-21     9939\n",
       "2021-08-22     9982\n",
       "2021-08-23     9722\n",
       "2021-08-24     9705\n",
       "2021-08-25     9918\n",
       "Name: event, dtype: int64"
      ]
     },
     "execution_count": 13,
     "metadata": {},
     "output_type": "execute_result"
    }
   ],
   "source": [
    "df_deduplicated[df_deduplicated[\"event\"] == \"pageview\"].groupby(by=\"date\")[\"event\"].count()"
   ]
  },
  {
   "cell_type": "markdown",
   "id": "4f079bf5",
   "metadata": {},
   "source": [
    "# Question 2\n",
    "## What about the other recorded events?\n",
    "\n",
    "In the first line in the cell below we obtain the set of all unique events in the data. Then, we remove the pageview event because it was already analysed in the previous question. We will deal with whatever events remain."
   ]
  },
  {
   "cell_type": "code",
   "execution_count": 14,
   "id": "b9b984bd",
   "metadata": {},
   "outputs": [
    {
     "data": {
      "text/plain": [
       "{'click', 'preview'}"
      ]
     },
     "execution_count": 14,
     "metadata": {},
     "output_type": "execute_result"
    }
   ],
   "source": [
    "# get the set of recorded events in the data\n",
    "recorded_events = set(df[\"event\"].unique())\n",
    "# remove the 'pageview' event\n",
    "recorded_events.remove(\"pageview\")\n",
    "recorded_events"
   ]
  },
  {
   "cell_type": "markdown",
   "id": "0827c0d7",
   "metadata": {},
   "source": [
    "Once we have the other recorded events, we can simply loop over them and apply the same solution from Question 1, adding some informative print statements in the process."
   ]
  },
  {
   "cell_type": "code",
   "execution_count": 15,
   "id": "bcb4ad2f",
   "metadata": {},
   "outputs": [
    {
     "name": "stdout",
     "output_type": "stream",
     "text": [
      "Total number of click events is 55732 \n",
      "\n",
      "click event distribution per day:\n",
      "\n",
      "date\n",
      "2021-08-19    9207\n",
      "2021-08-20    8508\n",
      "2021-08-21    8071\n",
      "2021-08-22    7854\n",
      "2021-08-23    7315\n",
      "2021-08-24    7301\n",
      "2021-08-25    7476\n",
      "Name: event, dtype: int64 \n",
      "\n",
      "Total number of preview events is 28531 \n",
      "\n",
      "preview event distribution per day:\n",
      "\n",
      "date\n",
      "2021-08-19    3788\n",
      "2021-08-20    4222\n",
      "2021-08-21    4663\n",
      "2021-08-22    4349\n",
      "2021-08-23    3847\n",
      "2021-08-24    3840\n",
      "2021-08-25    3822\n",
      "Name: event, dtype: int64 \n",
      "\n"
     ]
    }
   ],
   "source": [
    "# loop over each event\n",
    "for recorded_event in recorded_events:\n",
    "    # get the total number of occurrences\n",
    "    total_events = df[df[\"event\"] == recorded_event].shape[0]\n",
    "    print(\"Total number of\", recorded_event, \"events is\", total_events, \"\\n\")\n",
    "    # group by the date and aggregate by count\n",
    "    data_set = df[df[\"event\"] == recorded_event].groupby(by=\"date\")[\"event\"].count()\n",
    "    print(recorded_event, \"event distribution per day:\\n\")\n",
    "    print(data_set, \"\\n\")"
   ]
  },
  {
   "cell_type": "markdown",
   "id": "ebd32906",
   "metadata": {},
   "source": [
    "# Question 3\n",
    "## Which countries did the clicks come from?\n",
    "\n",
    "This question is a bit simpler than the ones before, in the sense that it does not require any groupings or aggregations. The solution consists of two steps:\n",
    "\n",
    "* We need to filter for the click events only\n",
    "* We can print the unique values of the Country column (ignoring any nans)"
   ]
  },
  {
   "cell_type": "code",
   "execution_count": 16,
   "id": "686a96ac",
   "metadata": {},
   "outputs": [
    {
     "data": {
      "text/html": [
       "<div>\n",
       "<style scoped>\n",
       "    .dataframe tbody tr th:only-of-type {\n",
       "        vertical-align: middle;\n",
       "    }\n",
       "\n",
       "    .dataframe tbody tr th {\n",
       "        vertical-align: top;\n",
       "    }\n",
       "\n",
       "    .dataframe thead th {\n",
       "        text-align: right;\n",
       "    }\n",
       "</style>\n",
       "<table border=\"1\" class=\"dataframe\">\n",
       "  <thead>\n",
       "    <tr style=\"text-align: right;\">\n",
       "      <th></th>\n",
       "      <th>Country</th>\n",
       "    </tr>\n",
       "  </thead>\n",
       "  <tbody>\n",
       "    <tr>\n",
       "      <th>0</th>\n",
       "      <td>Saudi Arabia</td>\n",
       "    </tr>\n",
       "    <tr>\n",
       "      <th>1</th>\n",
       "      <td>India</td>\n",
       "    </tr>\n",
       "    <tr>\n",
       "      <th>2</th>\n",
       "      <td>France</td>\n",
       "    </tr>\n",
       "    <tr>\n",
       "      <th>3</th>\n",
       "      <td>Maldives</td>\n",
       "    </tr>\n",
       "    <tr>\n",
       "      <th>4</th>\n",
       "      <td>United States</td>\n",
       "    </tr>\n",
       "    <tr>\n",
       "      <th>...</th>\n",
       "      <td>...</td>\n",
       "    </tr>\n",
       "    <tr>\n",
       "      <th>197</th>\n",
       "      <td>Guernsey</td>\n",
       "    </tr>\n",
       "    <tr>\n",
       "      <th>198</th>\n",
       "      <td>Palau</td>\n",
       "    </tr>\n",
       "    <tr>\n",
       "      <th>199</th>\n",
       "      <td>Åland</td>\n",
       "    </tr>\n",
       "    <tr>\n",
       "      <th>200</th>\n",
       "      <td>Principality of Monaco</td>\n",
       "    </tr>\n",
       "    <tr>\n",
       "      <th>201</th>\n",
       "      <td>Brunei</td>\n",
       "    </tr>\n",
       "  </tbody>\n",
       "</table>\n",
       "<p>202 rows × 1 columns</p>\n",
       "</div>"
      ],
      "text/plain": [
       "                    Country\n",
       "0              Saudi Arabia\n",
       "1                     India\n",
       "2                    France\n",
       "3                  Maldives\n",
       "4             United States\n",
       "..                      ...\n",
       "197                Guernsey\n",
       "198                   Palau\n",
       "199                   Åland\n",
       "200  Principality of Monaco\n",
       "201                  Brunei\n",
       "\n",
       "[202 rows x 1 columns]"
      ]
     },
     "execution_count": 16,
     "metadata": {},
     "output_type": "execute_result"
    }
   ],
   "source": [
    "# filter for the proper event\n",
    "df_q3 = df[df[\"event\"] == \"click\"]\n",
    "# or alternatively, you can loop over the array provided by df.unique() and print them all\n",
    "pd.DataFrame(data=df_q3[\"country\"].dropna().unique(), columns=[\"Country\"])"
   ]
  },
  {
   "cell_type": "markdown",
   "id": "163222ac",
   "metadata": {},
   "source": [
    "# Question 4\n",
    "## What was the overall click rate (clicks/pageviews)?\n",
    "\n",
    "The click rate is the number of clicks that a page has received (event = 'click') divided by the number of times it has been shown (event = 'pageview'). It is a commonly used metric that measures the success of an advertising campaign.\n",
    "\n",
    "Its calculation requires a few steps.\n",
    "\n",
    "To start with, we can count the number of times each link has been clicked on, and the number of times each link has been viewed. The same procedure applies to both calculations. We first filter for the proper event (click or pageview), then we group the filtered data by the link Id and count the occurrences of that event."
   ]
  },
  {
   "cell_type": "code",
   "execution_count": 17,
   "id": "6dd19c70",
   "metadata": {},
   "outputs": [],
   "source": [
    "# filter only 'click' events and group them by the 'linkid' to get their count,\n",
    "# i.e., number of clicks on each link\n",
    "link_clicks = df[df[\"event\"] == \"click\"].groupby(by=\"linkid\")[\"event\"].count().reset_index()\n",
    "link_clicks = link_clicks.rename(columns={\n",
    "    \"event\": \"clicks\" # rename column for easier manipulation\n",
    "})\n",
    "# do the same for the 'pageview' events\n",
    "pageviews = df[df[\"event\"] == \"pageview\"].groupby(by=\"linkid\")[\"event\"].count().reset_index()\n",
    "pageviews = pageviews.rename(columns={\n",
    "    \"event\": \"pageviews\"\n",
    "})"
   ]
  },
  {
   "cell_type": "code",
   "execution_count": 18,
   "id": "8db7109a",
   "metadata": {},
   "outputs": [
    {
     "data": {
      "text/html": [
       "<div>\n",
       "<style scoped>\n",
       "    .dataframe tbody tr th:only-of-type {\n",
       "        vertical-align: middle;\n",
       "    }\n",
       "\n",
       "    .dataframe tbody tr th {\n",
       "        vertical-align: top;\n",
       "    }\n",
       "\n",
       "    .dataframe thead th {\n",
       "        text-align: right;\n",
       "    }\n",
       "</style>\n",
       "<table border=\"1\" class=\"dataframe\">\n",
       "  <thead>\n",
       "    <tr style=\"text-align: right;\">\n",
       "      <th></th>\n",
       "      <th>linkid</th>\n",
       "      <th>clicks</th>\n",
       "    </tr>\n",
       "  </thead>\n",
       "  <tbody>\n",
       "    <tr>\n",
       "      <th>0</th>\n",
       "      <td>00126b32-0c35-507b-981c-02c80d2aa8e7</td>\n",
       "      <td>2</td>\n",
       "    </tr>\n",
       "    <tr>\n",
       "      <th>1</th>\n",
       "      <td>004b9724-abca-5481-b6e9-6148a7ca00a5</td>\n",
       "      <td>1</td>\n",
       "    </tr>\n",
       "    <tr>\n",
       "      <th>2</th>\n",
       "      <td>0063a982-41cd-5629-96d0-e1c4dd72ea11</td>\n",
       "      <td>2</td>\n",
       "    </tr>\n",
       "    <tr>\n",
       "      <th>3</th>\n",
       "      <td>006af6a0-1f0d-4b0c-93bf-756af9071c06</td>\n",
       "      <td>8</td>\n",
       "    </tr>\n",
       "    <tr>\n",
       "      <th>4</th>\n",
       "      <td>00759b81-3f04-4a61-b934-f8fb3185f4a0</td>\n",
       "      <td>3</td>\n",
       "    </tr>\n",
       "  </tbody>\n",
       "</table>\n",
       "</div>"
      ],
      "text/plain": [
       "                                 linkid  clicks\n",
       "0  00126b32-0c35-507b-981c-02c80d2aa8e7       2\n",
       "1  004b9724-abca-5481-b6e9-6148a7ca00a5       1\n",
       "2  0063a982-41cd-5629-96d0-e1c4dd72ea11       2\n",
       "3  006af6a0-1f0d-4b0c-93bf-756af9071c06       8\n",
       "4  00759b81-3f04-4a61-b934-f8fb3185f4a0       3"
      ]
     },
     "execution_count": 18,
     "metadata": {},
     "output_type": "execute_result"
    }
   ],
   "source": [
    "link_clicks.head()"
   ]
  },
  {
   "cell_type": "code",
   "execution_count": 19,
   "id": "fd1e8871",
   "metadata": {},
   "outputs": [
    {
     "data": {
      "text/html": [
       "<div>\n",
       "<style scoped>\n",
       "    .dataframe tbody tr th:only-of-type {\n",
       "        vertical-align: middle;\n",
       "    }\n",
       "\n",
       "    .dataframe tbody tr th {\n",
       "        vertical-align: top;\n",
       "    }\n",
       "\n",
       "    .dataframe thead th {\n",
       "        text-align: right;\n",
       "    }\n",
       "</style>\n",
       "<table border=\"1\" class=\"dataframe\">\n",
       "  <thead>\n",
       "    <tr style=\"text-align: right;\">\n",
       "      <th></th>\n",
       "      <th>linkid</th>\n",
       "      <th>pageviews</th>\n",
       "    </tr>\n",
       "  </thead>\n",
       "  <tbody>\n",
       "    <tr>\n",
       "      <th>0</th>\n",
       "      <td>00073307-ae96-5089-a117-4783afb42f8e</td>\n",
       "      <td>2</td>\n",
       "    </tr>\n",
       "    <tr>\n",
       "      <th>1</th>\n",
       "      <td>00126b32-0c35-507b-981c-02c80d2aa8e7</td>\n",
       "      <td>2</td>\n",
       "    </tr>\n",
       "    <tr>\n",
       "      <th>2</th>\n",
       "      <td>0018cfff-50a1-5984-9715-01ef2d11a49a</td>\n",
       "      <td>1</td>\n",
       "    </tr>\n",
       "    <tr>\n",
       "      <th>3</th>\n",
       "      <td>0033934b-5d16-5a06-af58-d087bcdd3680</td>\n",
       "      <td>1</td>\n",
       "    </tr>\n",
       "    <tr>\n",
       "      <th>4</th>\n",
       "      <td>0034d6cf-3bd8-5ffe-aafc-b3959fc48608</td>\n",
       "      <td>1</td>\n",
       "    </tr>\n",
       "  </tbody>\n",
       "</table>\n",
       "</div>"
      ],
      "text/plain": [
       "                                 linkid  pageviews\n",
       "0  00073307-ae96-5089-a117-4783afb42f8e          2\n",
       "1  00126b32-0c35-507b-981c-02c80d2aa8e7          2\n",
       "2  0018cfff-50a1-5984-9715-01ef2d11a49a          1\n",
       "3  0033934b-5d16-5a06-af58-d087bcdd3680          1\n",
       "4  0034d6cf-3bd8-5ffe-aafc-b3959fc48608          1"
      ]
     },
     "execution_count": 19,
     "metadata": {},
     "output_type": "execute_result"
    }
   ],
   "source": [
    "pageviews.head()"
   ]
  },
  {
   "cell_type": "markdown",
   "id": "993160d3",
   "metadata": {},
   "source": [
    "To get the answer, we need to somehow join these two Dataframes on the same link Id, and then divide the number of clicks by the number of pageviews to get the required click rate. It can be achieved with Pandas' merge() method. We specify a 'left' and a 'right' Dataframe, a column to merge on, and how the merge should go (we specify 'inner' which takes the intersection of the two data sets)."
   ]
  },
  {
   "cell_type": "code",
   "execution_count": 20,
   "id": "d1b3f513",
   "metadata": {},
   "outputs": [],
   "source": [
    "# pd.merge() does a database-style join of the two dataframes\n",
    "df_q4 = pd.merge(left=link_clicks, right=pageviews, on=\"linkid\", how=\"inner\")"
   ]
  },
  {
   "cell_type": "code",
   "execution_count": 21,
   "id": "6ce8fd63",
   "metadata": {},
   "outputs": [],
   "source": [
    "# define a new column of the 'click_rate'\n",
    "df_q4[\"click_rate\"] = df_q4[\"clicks\"] / df_q4[\"pageviews\"]"
   ]
  },
  {
   "cell_type": "markdown",
   "id": "99970058",
   "metadata": {},
   "source": [
    "Once we do the merge, we can do column-wise arithmetics to produce a new column that would store the click rate. The cell below prints the final data set, providing us with the click rate for each link."
   ]
  },
  {
   "cell_type": "code",
   "execution_count": 22,
   "id": "ea72a80d",
   "metadata": {},
   "outputs": [
    {
     "data": {
      "text/html": [
       "<div>\n",
       "<style scoped>\n",
       "    .dataframe tbody tr th:only-of-type {\n",
       "        vertical-align: middle;\n",
       "    }\n",
       "\n",
       "    .dataframe tbody tr th {\n",
       "        vertical-align: top;\n",
       "    }\n",
       "\n",
       "    .dataframe thead th {\n",
       "        text-align: right;\n",
       "    }\n",
       "</style>\n",
       "<table border=\"1\" class=\"dataframe\">\n",
       "  <thead>\n",
       "    <tr style=\"text-align: right;\">\n",
       "      <th></th>\n",
       "      <th>linkid</th>\n",
       "      <th>clicks</th>\n",
       "      <th>pageviews</th>\n",
       "      <th>click_rate</th>\n",
       "    </tr>\n",
       "  </thead>\n",
       "  <tbody>\n",
       "    <tr>\n",
       "      <th>0</th>\n",
       "      <td>00126b32-0c35-507b-981c-02c80d2aa8e7</td>\n",
       "      <td>2</td>\n",
       "      <td>2</td>\n",
       "      <td>1.000000</td>\n",
       "    </tr>\n",
       "    <tr>\n",
       "      <th>1</th>\n",
       "      <td>004b9724-abca-5481-b6e9-6148a7ca00a5</td>\n",
       "      <td>1</td>\n",
       "      <td>1</td>\n",
       "      <td>1.000000</td>\n",
       "    </tr>\n",
       "    <tr>\n",
       "      <th>2</th>\n",
       "      <td>0063a982-41cd-5629-96d0-e1c4dd72ea11</td>\n",
       "      <td>2</td>\n",
       "      <td>3</td>\n",
       "      <td>0.666667</td>\n",
       "    </tr>\n",
       "    <tr>\n",
       "      <th>3</th>\n",
       "      <td>006af6a0-1f0d-4b0c-93bf-756af9071c06</td>\n",
       "      <td>8</td>\n",
       "      <td>36</td>\n",
       "      <td>0.222222</td>\n",
       "    </tr>\n",
       "    <tr>\n",
       "      <th>4</th>\n",
       "      <td>00759b81-3f04-4a61-b934-f8fb3185f4a0</td>\n",
       "      <td>3</td>\n",
       "      <td>4</td>\n",
       "      <td>0.750000</td>\n",
       "    </tr>\n",
       "    <tr>\n",
       "      <th>...</th>\n",
       "      <td>...</td>\n",
       "      <td>...</td>\n",
       "      <td>...</td>\n",
       "      <td>...</td>\n",
       "    </tr>\n",
       "    <tr>\n",
       "      <th>2248</th>\n",
       "      <td>ffd8d5a7-91bc-48e1-a692-c26fca8a8ead</td>\n",
       "      <td>29</td>\n",
       "      <td>84</td>\n",
       "      <td>0.345238</td>\n",
       "    </tr>\n",
       "    <tr>\n",
       "      <th>2249</th>\n",
       "      <td>fff38ca0-8043-50cd-a5f1-f65ebb7105c5</td>\n",
       "      <td>1</td>\n",
       "      <td>1</td>\n",
       "      <td>1.000000</td>\n",
       "    </tr>\n",
       "    <tr>\n",
       "      <th>2250</th>\n",
       "      <td>fff84c0e-90a1-59d8-9997-adc909d50e16</td>\n",
       "      <td>1</td>\n",
       "      <td>1</td>\n",
       "      <td>1.000000</td>\n",
       "    </tr>\n",
       "    <tr>\n",
       "      <th>2251</th>\n",
       "      <td>fffc17a7-f935-5d3e-bd3e-d761fd80d479</td>\n",
       "      <td>1</td>\n",
       "      <td>2</td>\n",
       "      <td>0.500000</td>\n",
       "    </tr>\n",
       "    <tr>\n",
       "      <th>2252</th>\n",
       "      <td>fffd0045-29de-522b-b5d8-35786363bf07</td>\n",
       "      <td>1</td>\n",
       "      <td>2</td>\n",
       "      <td>0.500000</td>\n",
       "    </tr>\n",
       "  </tbody>\n",
       "</table>\n",
       "<p>2253 rows × 4 columns</p>\n",
       "</div>"
      ],
      "text/plain": [
       "                                    linkid  clicks  pageviews  click_rate\n",
       "0     00126b32-0c35-507b-981c-02c80d2aa8e7       2          2    1.000000\n",
       "1     004b9724-abca-5481-b6e9-6148a7ca00a5       1          1    1.000000\n",
       "2     0063a982-41cd-5629-96d0-e1c4dd72ea11       2          3    0.666667\n",
       "3     006af6a0-1f0d-4b0c-93bf-756af9071c06       8         36    0.222222\n",
       "4     00759b81-3f04-4a61-b934-f8fb3185f4a0       3          4    0.750000\n",
       "...                                    ...     ...        ...         ...\n",
       "2248  ffd8d5a7-91bc-48e1-a692-c26fca8a8ead      29         84    0.345238\n",
       "2249  fff38ca0-8043-50cd-a5f1-f65ebb7105c5       1          1    1.000000\n",
       "2250  fff84c0e-90a1-59d8-9997-adc909d50e16       1          1    1.000000\n",
       "2251  fffc17a7-f935-5d3e-bd3e-d761fd80d479       1          2    0.500000\n",
       "2252  fffd0045-29de-522b-b5d8-35786363bf07       1          2    0.500000\n",
       "\n",
       "[2253 rows x 4 columns]"
      ]
     },
     "execution_count": 22,
     "metadata": {},
     "output_type": "execute_result"
    }
   ],
   "source": [
    "df_q4"
   ]
  },
  {
   "cell_type": "markdown",
   "id": "2c9608fb",
   "metadata": {},
   "source": [
    "# Question 5\n",
    "## How does the clickrate distribute across different links?\n",
    "\n",
    "To get a sense of the distribution of the click rate across different links, we can use the describe() method. The cell below does that. Observe the output. We have the count (number of links), the mean, standard deviation, min, max, as well as the value of the click rate at the 25, 50, and 75th percentile."
   ]
  },
  {
   "cell_type": "code",
   "execution_count": 23,
   "id": "94b05797",
   "metadata": {},
   "outputs": [
    {
     "data": {
      "text/plain": [
       "count    2253.000000\n",
       "mean        0.809920\n",
       "std         1.958030\n",
       "min         0.090909\n",
       "25%         0.500000\n",
       "50%         1.000000\n",
       "75%         1.000000\n",
       "max        92.300000\n",
       "Name: click_rate, dtype: float64"
      ]
     },
     "execution_count": 23,
     "metadata": {},
     "output_type": "execute_result"
    }
   ],
   "source": [
    "df_q4[\"click_rate\"].describe()"
   ]
  },
  {
   "cell_type": "markdown",
   "id": "a191e289",
   "metadata": {},
   "source": [
    "Tabular data can only give us so much, so we can try to plot the data and visualize some insights.\n",
    "\n",
    "Using the plot() method we plot a histogram with 100 bins. Notice how we provide parameters for the figure size and the label of the X-axis. It is always a good idea to have these as they provide make the interpretation of the graphic a lot easier."
   ]
  },
  {
   "cell_type": "code",
   "execution_count": 24,
   "id": "a636a914",
   "metadata": {},
   "outputs": [
    {
     "data": {
      "image/png": "[encoded data removed]",
      "text/plain": [
       "<Figure size 504x504 with 1 Axes>"
      ]
     },
     "metadata": {
      "needs_background": "light"
     },
     "output_type": "display_data"
    }
   ],
   "source": [
    "ax = df_q4[\"click_rate\"].plot(kind=\"hist\", figsize=(7, 7), bins=100)\n",
    "_ = ax.set_xlabel(\"Click Rate\")"
   ]
  },
  {
   "cell_type": "markdown",
   "id": "392cc6a2",
   "metadata": {},
   "source": [
    "The histogram shows that the data is highly skewed to left, i.e., many of its values are very close to zero. In such cases, a common workaround is to plot the histogram of the logarithm of the data. Let us try that, we can use Numpy's log2() method for it!"
   ]
  },
  {
   "cell_type": "code",
   "execution_count": 25,
   "id": "e92e56e4",
   "metadata": {},
   "outputs": [
    {
     "data": {
      "image/png": "[encoded data removed]",
      "text/plain": [
       "<Figure size 504x504 with 1 Axes>"
      ]
     },
     "metadata": {
      "needs_background": "light"
     },
     "output_type": "display_data"
    }
   ],
   "source": [
    "# because the data is highly skewed, it makes more sense to plot the log of it\n",
    "df_q4[\"click_rate_log2\"] = np.log2(df_q4[\"click_rate\"])\n",
    "ax = df_q4[\"click_rate_log2\"].plot(kind=\"hist\", figsize=(7, 7), bins=100)\n",
    "_ = ax.set_xlabel(\"Log2(Click Rate)\")"
   ]
  },
  {
   "cell_type": "markdown",
   "id": "dc6cf98c",
   "metadata": {},
   "source": [
    "We observe an enormous spike at the 0 meaning that the actual click rate was 1, implying that there are many links that have been viewed and clicked on exactly once. There are also, many links that have been viewed many times but clicked on fewer (values less than zero). Remember, this plots the logarithm of the actual values, so there is an extra math step in the interpretation here.\n",
    "\n",
    "One last thing to try is a box plot, which is basically a visualization of the describe() method."
   ]
  },
  {
   "cell_type": "code",
   "execution_count": 26,
   "id": "3657e08e",
   "metadata": {},
   "outputs": [
    {
     "data": {
      "image/png": "[encoded data removed]",
      "text/plain": [
       "<Figure size 432x288 with 1 Axes>"
      ]
     },
     "metadata": {
      "needs_background": "light"
     },
     "output_type": "display_data"
    }
   ],
   "source": [
    "ax = df_q4.boxplot(column=\"click_rate_log2\")\n",
    "_ = ax.set_ylabel(\"Value\")"
   ]
  },
  {
   "cell_type": "markdown",
   "id": "c5c930b8",
   "metadata": {},
   "source": [
    "We observe two (and one particular) high outliers, and many, many below the Q1 (i.e., click rate very close to zero). Our guess is that there are at least two links, that have been clicked on multiple times in the same page view."
   ]
  },
  {
   "cell_type": "markdown",
   "id": "d2a54964",
   "metadata": {},
   "source": [
    "# Question 6\n",
    "## Is there any correlation between clicks and previews on a link? Is it significant? How large is the effect? Make sure to at least test for potential linear as well as categorical (think binary) relationships between both variables.\n",
    "\n",
    "Pearson's correlation coefficient is a measure of linear correlation between two data sets. It takes its value in the range of [-1, 1] and the further it is from zero, the more significant the correlation is.\n",
    "\n",
    "Pearson's coefficient is implemented in both Pandas and Scipy, and here we are actually going to use both libraries, just to explore their APIs and to compare results! (should be the same).\n",
    "\n",
    "First, let us filter the data to contain only the click and the preview events. We can describe it to get a sense of the contents."
   ]
  },
  {
   "cell_type": "code",
   "execution_count": 27,
   "id": "366d0d20",
   "metadata": {},
   "outputs": [],
   "source": [
    "# filter only events that are relevant to the question\n",
    "df_q6 = df[df[\"event\"].isin([\"click\", \"preview\"])]"
   ]
  },
  {
   "cell_type": "code",
   "execution_count": 28,
   "id": "858cf13b",
   "metadata": {},
   "outputs": [
    {
     "data": {
      "text/html": [
       "<div>\n",
       "<style scoped>\n",
       "    .dataframe tbody tr th:only-of-type {\n",
       "        vertical-align: middle;\n",
       "    }\n",
       "\n",
       "    .dataframe tbody tr th {\n",
       "        vertical-align: top;\n",
       "    }\n",
       "\n",
       "    .dataframe thead th {\n",
       "        text-align: right;\n",
       "    }\n",
       "</style>\n",
       "<table border=\"1\" class=\"dataframe\">\n",
       "  <thead>\n",
       "    <tr style=\"text-align: right;\">\n",
       "      <th></th>\n",
       "      <th>event</th>\n",
       "      <th>date</th>\n",
       "      <th>country</th>\n",
       "      <th>city</th>\n",
       "      <th>artist</th>\n",
       "      <th>album</th>\n",
       "      <th>track</th>\n",
       "      <th>isrc</th>\n",
       "      <th>linkid</th>\n",
       "    </tr>\n",
       "  </thead>\n",
       "  <tbody>\n",
       "    <tr>\n",
       "      <th>count</th>\n",
       "      <td>84263</td>\n",
       "      <td>84263</td>\n",
       "      <td>84261</td>\n",
       "      <td>84261</td>\n",
       "      <td>84252</td>\n",
       "      <td>84262</td>\n",
       "      <td>84262</td>\n",
       "      <td>82036</td>\n",
       "      <td>84263</td>\n",
       "    </tr>\n",
       "    <tr>\n",
       "      <th>unique</th>\n",
       "      <td>2</td>\n",
       "      <td>7</td>\n",
       "      <td>206</td>\n",
       "      <td>8137</td>\n",
       "      <td>1549</td>\n",
       "      <td>2003</td>\n",
       "      <td>2155</td>\n",
       "      <td>628</td>\n",
       "      <td>2286</td>\n",
       "    </tr>\n",
       "    <tr>\n",
       "      <th>top</th>\n",
       "      <td>click</td>\n",
       "      <td>2021-08-19</td>\n",
       "      <td>Saudi Arabia</td>\n",
       "      <td>Jeddah</td>\n",
       "      <td>Tesher</td>\n",
       "      <td>Jalebi Baby</td>\n",
       "      <td>Jalebi Baby</td>\n",
       "      <td>QZNWQ2070741</td>\n",
       "      <td>2d896d31-97b6-4869-967b-1c5fb9cd4bb8</td>\n",
       "    </tr>\n",
       "    <tr>\n",
       "      <th>freq</th>\n",
       "      <td>55732</td>\n",
       "      <td>12995</td>\n",
       "      <td>18461</td>\n",
       "      <td>8893</td>\n",
       "      <td>15666</td>\n",
       "      <td>15666</td>\n",
       "      <td>15666</td>\n",
       "      <td>15666</td>\n",
       "      <td>15666</td>\n",
       "    </tr>\n",
       "  </tbody>\n",
       "</table>\n",
       "</div>"
      ],
      "text/plain": [
       "        event        date       country    city  artist        album  \\\n",
       "count   84263       84263         84261   84261   84252        84262   \n",
       "unique      2           7           206    8137    1549         2003   \n",
       "top     click  2021-08-19  Saudi Arabia  Jeddah  Tesher  Jalebi Baby   \n",
       "freq    55732       12995         18461    8893   15666        15666   \n",
       "\n",
       "              track          isrc                                linkid  \n",
       "count         84262         82036                                 84263  \n",
       "unique         2155           628                                  2286  \n",
       "top     Jalebi Baby  QZNWQ2070741  2d896d31-97b6-4869-967b-1c5fb9cd4bb8  \n",
       "freq          15666         15666                                 15666  "
      ]
     },
     "execution_count": 28,
     "metadata": {},
     "output_type": "execute_result"
    }
   ],
   "source": [
    "df_q6.describe()"
   ]
  },
  {
   "cell_type": "code",
   "execution_count": 29,
   "id": "953e2eff",
   "metadata": {},
   "outputs": [],
   "source": [
    "# filter only 'click' events and group them by the 'linkid' to get their count,\n",
    "# i.e., number of clicks on each link\n",
    "link_clicks = df[df[\"event\"] == \"click\"].groupby(by=\"linkid\")[\"event\"].count().reset_index()\n",
    "link_clicks = link_clicks.rename(columns={\n",
    "    \"event\": \"clicks\" # rename column for easier manipulation\n",
    "})\n",
    "# do the same for the 'preview' events\n",
    "previews = df[df[\"event\"] == \"preview\"].groupby(by=\"linkid\")[\"event\"].count().reset_index()\n",
    "previews = previews.rename(columns={\n",
    "    \"event\": \"previews\"\n",
    "})"
   ]
  },
  {
   "cell_type": "code",
   "execution_count": 30,
   "id": "b8881c21",
   "metadata": {},
   "outputs": [],
   "source": [
    "# perform two database-style joins to append the \n",
    "# number of link clicks and previews to each row\n",
    "df_q6 = pd.merge(left=df_q6, right=link_clicks, how=\"left\", on=\"linkid\")\n",
    "df_q6 = pd.merge(left=df_q6, right=previews, how=\"left\", on=\"linkid\")"
   ]
  },
  {
   "cell_type": "code",
   "execution_count": 31,
   "id": "3c2170da",
   "metadata": {},
   "outputs": [
    {
     "data": {
      "text/html": [
       "<div>\n",
       "<style scoped>\n",
       "    .dataframe tbody tr th:only-of-type {\n",
       "        vertical-align: middle;\n",
       "    }\n",
       "\n",
       "    .dataframe tbody tr th {\n",
       "        vertical-align: top;\n",
       "    }\n",
       "\n",
       "    .dataframe thead th {\n",
       "        text-align: right;\n",
       "    }\n",
       "</style>\n",
       "<table border=\"1\" class=\"dataframe\">\n",
       "  <thead>\n",
       "    <tr style=\"text-align: right;\">\n",
       "      <th></th>\n",
       "      <th>event</th>\n",
       "      <th>date</th>\n",
       "      <th>country</th>\n",
       "      <th>city</th>\n",
       "      <th>artist</th>\n",
       "      <th>album</th>\n",
       "      <th>track</th>\n",
       "      <th>isrc</th>\n",
       "      <th>linkid</th>\n",
       "      <th>clicks</th>\n",
       "      <th>previews</th>\n",
       "    </tr>\n",
       "  </thead>\n",
       "  <tbody>\n",
       "    <tr>\n",
       "      <th>0</th>\n",
       "      <td>click</td>\n",
       "      <td>2021-08-21</td>\n",
       "      <td>Saudi Arabia</td>\n",
       "      <td>Jeddah</td>\n",
       "      <td>Tesher</td>\n",
       "      <td>Jalebi Baby</td>\n",
       "      <td>Jalebi Baby</td>\n",
       "      <td>QZNWQ2070741</td>\n",
       "      <td>2d896d31-97b6-4869-967b-1c5fb9cd4bb8</td>\n",
       "      <td>9692.0</td>\n",
       "      <td>5974.0</td>\n",
       "    </tr>\n",
       "    <tr>\n",
       "      <th>1</th>\n",
       "      <td>click</td>\n",
       "      <td>2021-08-21</td>\n",
       "      <td>Saudi Arabia</td>\n",
       "      <td>Jeddah</td>\n",
       "      <td>Tesher</td>\n",
       "      <td>Jalebi Baby</td>\n",
       "      <td>Jalebi Baby</td>\n",
       "      <td>QZNWQ2070741</td>\n",
       "      <td>2d896d31-97b6-4869-967b-1c5fb9cd4bb8</td>\n",
       "      <td>9692.0</td>\n",
       "      <td>5974.0</td>\n",
       "    </tr>\n",
       "    <tr>\n",
       "      <th>2</th>\n",
       "      <td>click</td>\n",
       "      <td>2021-08-21</td>\n",
       "      <td>India</td>\n",
       "      <td>Ludhiana</td>\n",
       "      <td>Reyanna Maria</td>\n",
       "      <td>So Pretty</td>\n",
       "      <td>So Pretty</td>\n",
       "      <td>USUM72100871</td>\n",
       "      <td>23199824-9cf5-4b98-942a-34965c3b0cc2</td>\n",
       "      <td>1187.0</td>\n",
       "      <td>718.0</td>\n",
       "    </tr>\n",
       "    <tr>\n",
       "      <th>3</th>\n",
       "      <td>click</td>\n",
       "      <td>2021-08-21</td>\n",
       "      <td>France</td>\n",
       "      <td>Unknown</td>\n",
       "      <td>Simone &amp; Simaria, Sebastian Yatra</td>\n",
       "      <td>No Llores Más</td>\n",
       "      <td>No Llores Más</td>\n",
       "      <td>BRUM72003904</td>\n",
       "      <td>35573248-4e49-47c7-af80-08a960fa74cd</td>\n",
       "      <td>69.0</td>\n",
       "      <td>30.0</td>\n",
       "    </tr>\n",
       "    <tr>\n",
       "      <th>4</th>\n",
       "      <td>click</td>\n",
       "      <td>2021-08-21</td>\n",
       "      <td>Maldives</td>\n",
       "      <td>Malé</td>\n",
       "      <td>Tesher</td>\n",
       "      <td>Jalebi Baby</td>\n",
       "      <td>Jalebi Baby</td>\n",
       "      <td>QZNWQ2070741</td>\n",
       "      <td>2d896d31-97b6-4869-967b-1c5fb9cd4bb8</td>\n",
       "      <td>9692.0</td>\n",
       "      <td>5974.0</td>\n",
       "    </tr>\n",
       "    <tr>\n",
       "      <th>...</th>\n",
       "      <td>...</td>\n",
       "      <td>...</td>\n",
       "      <td>...</td>\n",
       "      <td>...</td>\n",
       "      <td>...</td>\n",
       "      <td>...</td>\n",
       "      <td>...</td>\n",
       "      <td>...</td>\n",
       "      <td>...</td>\n",
       "      <td>...</td>\n",
       "      <td>...</td>\n",
       "    </tr>\n",
       "    <tr>\n",
       "      <th>84258</th>\n",
       "      <td>preview</td>\n",
       "      <td>2021-08-23</td>\n",
       "      <td>United States</td>\n",
       "      <td>Brentwood</td>\n",
       "      <td>Tesher</td>\n",
       "      <td>Jalebi Baby</td>\n",
       "      <td>Jalebi Baby</td>\n",
       "      <td>QZNWQ2070741</td>\n",
       "      <td>2d896d31-97b6-4869-967b-1c5fb9cd4bb8</td>\n",
       "      <td>9692.0</td>\n",
       "      <td>5974.0</td>\n",
       "    </tr>\n",
       "    <tr>\n",
       "      <th>84259</th>\n",
       "      <td>preview</td>\n",
       "      <td>2021-08-23</td>\n",
       "      <td>Saudi Arabia</td>\n",
       "      <td>Riyadh</td>\n",
       "      <td>Evanescence</td>\n",
       "      <td>Fallen</td>\n",
       "      <td>Bring Me To Life</td>\n",
       "      <td>USWU30200093</td>\n",
       "      <td>0ea9f8bf-a144-42bd-a7b0-124e73914da4</td>\n",
       "      <td>20.0</td>\n",
       "      <td>14.0</td>\n",
       "    </tr>\n",
       "    <tr>\n",
       "      <th>84260</th>\n",
       "      <td>preview</td>\n",
       "      <td>2021-08-23</td>\n",
       "      <td>Ukraine</td>\n",
       "      <td>Kyiv</td>\n",
       "      <td>Miscél</td>\n",
       "      <td>when you left</td>\n",
       "      <td>when you left</td>\n",
       "      <td>QM42K1907890</td>\n",
       "      <td>2fc15e8b-83aa-40ee-9f9d-5d96c6d4356c</td>\n",
       "      <td>235.0</td>\n",
       "      <td>145.0</td>\n",
       "    </tr>\n",
       "    <tr>\n",
       "      <th>84261</th>\n",
       "      <td>preview</td>\n",
       "      <td>2021-08-23</td>\n",
       "      <td>Saudi Arabia</td>\n",
       "      <td>Khamis Mushait</td>\n",
       "      <td>Anne-Marie</td>\n",
       "      <td>Beautiful</td>\n",
       "      <td>Beautiful</td>\n",
       "      <td>GBAHS2100225</td>\n",
       "      <td>522da5cc-8177-4140-97a7-a84fdb4caf1c</td>\n",
       "      <td>2109.0</td>\n",
       "      <td>1605.0</td>\n",
       "    </tr>\n",
       "    <tr>\n",
       "      <th>84262</th>\n",
       "      <td>preview</td>\n",
       "      <td>2021-08-23</td>\n",
       "      <td>Pakistan</td>\n",
       "      <td>Arifwala</td>\n",
       "      <td>Reyanna Maria</td>\n",
       "      <td>So Pretty</td>\n",
       "      <td>So Pretty</td>\n",
       "      <td>USUM72100871</td>\n",
       "      <td>23199824-9cf5-4b98-942a-34965c3b0cc2</td>\n",
       "      <td>1187.0</td>\n",
       "      <td>718.0</td>\n",
       "    </tr>\n",
       "  </tbody>\n",
       "</table>\n",
       "<p>79438 rows × 11 columns</p>\n",
       "</div>"
      ],
      "text/plain": [
       "         event        date        country            city  \\\n",
       "0        click  2021-08-21   Saudi Arabia          Jeddah   \n",
       "1        click  2021-08-21   Saudi Arabia          Jeddah   \n",
       "2        click  2021-08-21          India        Ludhiana   \n",
       "3        click  2021-08-21         France         Unknown   \n",
       "4        click  2021-08-21       Maldives            Malé   \n",
       "...        ...         ...            ...             ...   \n",
       "84258  preview  2021-08-23  United States       Brentwood   \n",
       "84259  preview  2021-08-23   Saudi Arabia          Riyadh   \n",
       "84260  preview  2021-08-23        Ukraine            Kyiv   \n",
       "84261  preview  2021-08-23   Saudi Arabia  Khamis Mushait   \n",
       "84262  preview  2021-08-23       Pakistan        Arifwala   \n",
       "\n",
       "                                  artist          album             track  \\\n",
       "0                                 Tesher    Jalebi Baby       Jalebi Baby   \n",
       "1                                 Tesher    Jalebi Baby       Jalebi Baby   \n",
       "2                          Reyanna Maria      So Pretty         So Pretty   \n",
       "3      Simone & Simaria, Sebastian Yatra  No Llores Más     No Llores Más   \n",
       "4                                 Tesher    Jalebi Baby       Jalebi Baby   \n",
       "...                                  ...            ...               ...   \n",
       "84258                             Tesher    Jalebi Baby       Jalebi Baby   \n",
       "84259                        Evanescence         Fallen  Bring Me To Life   \n",
       "84260                             Miscél  when you left     when you left   \n",
       "84261                         Anne-Marie      Beautiful         Beautiful   \n",
       "84262                      Reyanna Maria      So Pretty         So Pretty   \n",
       "\n",
       "               isrc                                linkid  clicks  previews  \n",
       "0      QZNWQ2070741  2d896d31-97b6-4869-967b-1c5fb9cd4bb8  9692.0    5974.0  \n",
       "1      QZNWQ2070741  2d896d31-97b6-4869-967b-1c5fb9cd4bb8  9692.0    5974.0  \n",
       "2      USUM72100871  23199824-9cf5-4b98-942a-34965c3b0cc2  1187.0     718.0  \n",
       "3      BRUM72003904  35573248-4e49-47c7-af80-08a960fa74cd    69.0      30.0  \n",
       "4      QZNWQ2070741  2d896d31-97b6-4869-967b-1c5fb9cd4bb8  9692.0    5974.0  \n",
       "...             ...                                   ...     ...       ...  \n",
       "84258  QZNWQ2070741  2d896d31-97b6-4869-967b-1c5fb9cd4bb8  9692.0    5974.0  \n",
       "84259  USWU30200093  0ea9f8bf-a144-42bd-a7b0-124e73914da4    20.0      14.0  \n",
       "84260  QM42K1907890  2fc15e8b-83aa-40ee-9f9d-5d96c6d4356c   235.0     145.0  \n",
       "84261  GBAHS2100225  522da5cc-8177-4140-97a7-a84fdb4caf1c  2109.0    1605.0  \n",
       "84262  USUM72100871  23199824-9cf5-4b98-942a-34965c3b0cc2  1187.0     718.0  \n",
       "\n",
       "[79438 rows x 11 columns]"
      ]
     },
     "execution_count": 31,
     "metadata": {},
     "output_type": "execute_result"
    }
   ],
   "source": [
    "df_q6.dropna(subset=[\"clicks\", \"previews\"], inplace=True)\n",
    "df_q6"
   ]
  },
  {
   "cell_type": "code",
   "execution_count": 32,
   "id": "4b13b44e",
   "metadata": {},
   "outputs": [
    {
     "data": {
      "text/html": [
       "<div>\n",
       "<style scoped>\n",
       "    .dataframe tbody tr th:only-of-type {\n",
       "        vertical-align: middle;\n",
       "    }\n",
       "\n",
       "    .dataframe tbody tr th {\n",
       "        vertical-align: top;\n",
       "    }\n",
       "\n",
       "    .dataframe thead th {\n",
       "        text-align: right;\n",
       "    }\n",
       "</style>\n",
       "<table border=\"1\" class=\"dataframe\">\n",
       "  <thead>\n",
       "    <tr style=\"text-align: right;\">\n",
       "      <th></th>\n",
       "      <th>clicks</th>\n",
       "      <th>previews</th>\n",
       "    </tr>\n",
       "  </thead>\n",
       "  <tbody>\n",
       "    <tr>\n",
       "      <th>clicks</th>\n",
       "      <td>1.000000</td>\n",
       "      <td>0.998713</td>\n",
       "    </tr>\n",
       "    <tr>\n",
       "      <th>previews</th>\n",
       "      <td>0.998713</td>\n",
       "      <td>1.000000</td>\n",
       "    </tr>\n",
       "  </tbody>\n",
       "</table>\n",
       "</div>"
      ],
      "text/plain": [
       "            clicks  previews\n",
       "clicks    1.000000  0.998713\n",
       "previews  0.998713  1.000000"
      ]
     },
     "execution_count": 32,
     "metadata": {},
     "output_type": "execute_result"
    }
   ],
   "source": [
    "df_q6.corr()"
   ]
  },
  {
   "cell_type": "code",
   "execution_count": 33,
   "id": "8cb9caa3",
   "metadata": {},
   "outputs": [
    {
     "data": {
      "text/plain": [
       "(0.9987125072008247, 0.0)"
      ]
     },
     "execution_count": 33,
     "metadata": {},
     "output_type": "execute_result"
    }
   ],
   "source": [
    "stats.pearsonr(x=df_q6[\"clicks\"], y=df_q6[\"previews\"])"
   ]
  },
  {
   "cell_type": "markdown",
   "id": "db678b8c",
   "metadata": {},
   "source": [
    "Almost perfectly positive correlation between the number of clicks and previews which seems logical; given that the one is actually dependent on the other (can't have clicks without previews and vice versa).\n",
    "\n",
    "Using pd.factorize() we can quantify the relationship between categorical variables in similar manner as with numerical variables."
   ]
  },
  {
   "cell_type": "code",
   "execution_count": 34,
   "id": "cefcc391",
   "metadata": {},
   "outputs": [
    {
     "data": {
      "text/html": [
       "<div>\n",
       "<style scoped>\n",
       "    .dataframe tbody tr th:only-of-type {\n",
       "        vertical-align: middle;\n",
       "    }\n",
       "\n",
       "    .dataframe tbody tr th {\n",
       "        vertical-align: top;\n",
       "    }\n",
       "\n",
       "    .dataframe thead th {\n",
       "        text-align: right;\n",
       "    }\n",
       "</style>\n",
       "<table border=\"1\" class=\"dataframe\">\n",
       "  <thead>\n",
       "    <tr style=\"text-align: right;\">\n",
       "      <th></th>\n",
       "      <th>country</th>\n",
       "      <th>city</th>\n",
       "      <th>artist</th>\n",
       "      <th>album</th>\n",
       "      <th>track</th>\n",
       "    </tr>\n",
       "  </thead>\n",
       "  <tbody>\n",
       "    <tr>\n",
       "      <th>country</th>\n",
       "      <td>1.000000</td>\n",
       "      <td>0.189353</td>\n",
       "      <td>0.018565</td>\n",
       "      <td>0.023316</td>\n",
       "      <td>0.024796</td>\n",
       "    </tr>\n",
       "    <tr>\n",
       "      <th>city</th>\n",
       "      <td>0.189353</td>\n",
       "      <td>1.000000</td>\n",
       "      <td>0.103752</td>\n",
       "      <td>0.108283</td>\n",
       "      <td>0.111936</td>\n",
       "    </tr>\n",
       "    <tr>\n",
       "      <th>artist</th>\n",
       "      <td>0.018565</td>\n",
       "      <td>0.103752</td>\n",
       "      <td>1.000000</td>\n",
       "      <td>0.946371</td>\n",
       "      <td>0.949177</td>\n",
       "    </tr>\n",
       "    <tr>\n",
       "      <th>album</th>\n",
       "      <td>0.023316</td>\n",
       "      <td>0.108283</td>\n",
       "      <td>0.946371</td>\n",
       "      <td>1.000000</td>\n",
       "      <td>0.976958</td>\n",
       "    </tr>\n",
       "    <tr>\n",
       "      <th>track</th>\n",
       "      <td>0.024796</td>\n",
       "      <td>0.111936</td>\n",
       "      <td>0.949177</td>\n",
       "      <td>0.976958</td>\n",
       "      <td>1.000000</td>\n",
       "    </tr>\n",
       "  </tbody>\n",
       "</table>\n",
       "</div>"
      ],
      "text/plain": [
       "          country      city    artist     album     track\n",
       "country  1.000000  0.189353  0.018565  0.023316  0.024796\n",
       "city     0.189353  1.000000  0.103752  0.108283  0.111936\n",
       "artist   0.018565  0.103752  1.000000  0.946371  0.949177\n",
       "album    0.023316  0.108283  0.946371  1.000000  0.976958\n",
       "track    0.024796  0.111936  0.949177  0.976958  1.000000"
      ]
     },
     "execution_count": 34,
     "metadata": {},
     "output_type": "execute_result"
    }
   ],
   "source": [
    "categorical_columns = [\n",
    "    \"country\",\n",
    "    \"city\",\n",
    "    \"artist\",\n",
    "    \"album\",\n",
    "    \"track\"\n",
    "]\n",
    "factorized_df = df_q6[categorical_columns] \\\n",
    "                     .apply(lambda x: pd.factorize(x)[0]) \\\n",
    "                     .corr()\n",
    "factorized_df"
   ]
  },
  {
   "cell_type": "markdown",
   "id": "e95bebb6",
   "metadata": {},
   "source": [
    "We observe a high positive correlation between album, artist, and track and almost no correlation between other variables. This is again expected, since those variables are naturally dependent, i.e., each track belongs to an album and is performed by an artist."
   ]
  }
 ],
 "metadata": {
  "kernelspec": {
   "display_name": "Python 3 (ipykernel)",
   "language": "python",
   "name": "python3"
  },
  "language_info": {
   "codemirror_mode": {
    "name": "ipython",
    "version": 3
   },
   "file_extension": ".py",
   "mimetype": "text/x-python",
   "name": "python",
   "nbconvert_exporter": "python",
   "pygments_lexer": "ipython3",
   "version": "3.9.12"
  }
 },
 "nbformat": 4,
 "nbformat_minor": 5
}
